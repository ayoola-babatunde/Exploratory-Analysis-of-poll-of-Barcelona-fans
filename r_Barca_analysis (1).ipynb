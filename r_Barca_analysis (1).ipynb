{
  "nbformat": 4,
  "nbformat_minor": 0,
  "metadata": {
    "colab": {
      "name": "r/Barca analysis",
      "version": "0.3.2",
      "provenance": [],
      "collapsed_sections": []
    },
    "kernelspec": {
      "name": "python3",
      "display_name": "Python 3"
    }
  },
  "cells": [
    {
      "metadata": {
        "id": "XoFzcb5URUvi",
        "colab_type": "code",
        "colab": {}
      },
      "cell_type": "code",
      "source": [
        "import pandas as pd\n",
        "import matplotlib.pyplot as plt\n",
        "import matplotlib.mlab as mlab\n",
        "import numpy as np\n",
        "import scipy.stats\n",
        "import random\n",
        "import math"
      ],
      "execution_count": 0,
      "outputs": []
    },
    {
      "metadata": {
        "id": "xbnixqMYSYWS",
        "colab_type": "code",
        "outputId": "2797dc70-564d-412a-9d53-f957dc04c83a",
        "colab": {
          "base_uri": "https://localhost:8080/",
          "height": 346
        }
      },
      "cell_type": "code",
      "source": [
        "#importing the data from Google Drive\n",
        "df = pd.read_csv('https://docs.google.com/spreadsheets/d/e/2PACX-1vSMiM5wTg-lKe--jhh9mhF9oa6-f3BSalVQJTtXYLqQSuV01Hm4L1mzZc3QQDB2MpcBUDVjZqN24Su-/pub?gid=1627641766&single=true&output=csv')\n",
        "\n",
        "#taking a look at the data\n",
        "df.head()"
      ],
      "execution_count": 2,
      "outputs": [
        {
          "output_type": "execute_result",
          "data": {
            "text/html": [
              "<div>\n",
              "<style scoped>\n",
              "    .dataframe tbody tr th:only-of-type {\n",
              "        vertical-align: middle;\n",
              "    }\n",
              "\n",
              "    .dataframe tbody tr th {\n",
              "        vertical-align: top;\n",
              "    }\n",
              "\n",
              "    .dataframe thead th {\n",
              "        text-align: right;\n",
              "    }\n",
              "</style>\n",
              "<table border=\"1\" class=\"dataframe\">\n",
              "  <thead>\n",
              "    <tr style=\"text-align: right;\">\n",
              "      <th></th>\n",
              "      <th>Response Number</th>\n",
              "      <th>Who should be our starting right back</th>\n",
              "      <th>Is Suarez part of our best starting 11?</th>\n",
              "      <th>What is Valverdes biggest weakness</th>\n",
              "      <th>Is Rakitic part of our best starting 11?</th>\n",
              "      <th>Should Valverde stay another season until 2020</th>\n",
              "      <th>After Valverde leaves who should be our next coach?</th>\n",
              "      <th>Realistically what do you see us winning this year?</th>\n",
              "      <th>Comments</th>\n",
              "    </tr>\n",
              "  </thead>\n",
              "  <tbody>\n",
              "    <tr>\n",
              "      <th>0</th>\n",
              "      <td>1</td>\n",
              "      <td>Roberto</td>\n",
              "      <td>Yes</td>\n",
              "      <td>Very little rotations and prefers his starting 11</td>\n",
              "      <td>Yes</td>\n",
              "      <td>Yes</td>\n",
              "      <td>Francisco Javier García Pimienta (Barca B Mana...</td>\n",
              "      <td>UCL,La Liga,Copa del Rey</td>\n",
              "      <td>NaN</td>\n",
              "    </tr>\n",
              "    <tr>\n",
              "      <th>1</th>\n",
              "      <td>2</td>\n",
              "      <td>Roberto</td>\n",
              "      <td>Yes</td>\n",
              "      <td>Too reliant on individual quality</td>\n",
              "      <td>Yes</td>\n",
              "      <td>Yes</td>\n",
              "      <td>Mauricio Pochettino (Spurs Manager)</td>\n",
              "      <td>UCL,La Liga,Copa del Rey</td>\n",
              "      <td>NaN</td>\n",
              "    </tr>\n",
              "    <tr>\n",
              "      <th>2</th>\n",
              "      <td>3</td>\n",
              "      <td>Roberto</td>\n",
              "      <td>Yes</td>\n",
              "      <td>Too reliant on Messi</td>\n",
              "      <td>Yes</td>\n",
              "      <td>Yes</td>\n",
              "      <td>Quique Setién (Real Betis Manager)</td>\n",
              "      <td>UCL,La Liga</td>\n",
              "      <td>NaN</td>\n",
              "    </tr>\n",
              "    <tr>\n",
              "      <th>3</th>\n",
              "      <td>4</td>\n",
              "      <td>Roberto</td>\n",
              "      <td>Yes</td>\n",
              "      <td>Very little rotations and prefers his starting 11</td>\n",
              "      <td>Yes</td>\n",
              "      <td>Yes</td>\n",
              "      <td>Quique Setién (Real Betis Manager)</td>\n",
              "      <td>UCL,La Liga,Copa del Rey</td>\n",
              "      <td>NaN</td>\n",
              "    </tr>\n",
              "    <tr>\n",
              "      <th>4</th>\n",
              "      <td>5</td>\n",
              "      <td>Semedo</td>\n",
              "      <td>Yes</td>\n",
              "      <td>Too reliant on individual quality</td>\n",
              "      <td>No</td>\n",
              "      <td>No</td>\n",
              "      <td>Quique Setién (Real Betis Manager)</td>\n",
              "      <td>La Liga,Copa del Rey</td>\n",
              "      <td>NaN</td>\n",
              "    </tr>\n",
              "  </tbody>\n",
              "</table>\n",
              "</div>"
            ],
            "text/plain": [
              "   Response Number Who should be our starting right back  \\\n",
              "0                1                               Roberto   \n",
              "1                2                               Roberto   \n",
              "2                3                               Roberto   \n",
              "3                4                               Roberto   \n",
              "4                5                                Semedo   \n",
              "\n",
              "  Is Suarez part of our best starting 11?  \\\n",
              "0                                     Yes   \n",
              "1                                     Yes   \n",
              "2                                     Yes   \n",
              "3                                     Yes   \n",
              "4                                     Yes   \n",
              "\n",
              "                  What is Valverdes biggest weakness  \\\n",
              "0  Very little rotations and prefers his starting 11   \n",
              "1                  Too reliant on individual quality   \n",
              "2                               Too reliant on Messi   \n",
              "3  Very little rotations and prefers his starting 11   \n",
              "4                  Too reliant on individual quality   \n",
              "\n",
              "  Is Rakitic part of our best starting 11?  \\\n",
              "0                                      Yes   \n",
              "1                                      Yes   \n",
              "2                                      Yes   \n",
              "3                                      Yes   \n",
              "4                                       No   \n",
              "\n",
              "  Should Valverde stay another season until 2020  \\\n",
              "0                                            Yes   \n",
              "1                                            Yes   \n",
              "2                                            Yes   \n",
              "3                                            Yes   \n",
              "4                                             No   \n",
              "\n",
              "  After Valverde leaves who should be our next coach?  \\\n",
              "0  Francisco Javier García Pimienta (Barca B Mana...    \n",
              "1                Mauricio Pochettino (Spurs Manager)    \n",
              "2                 Quique Setién (Real Betis Manager)    \n",
              "3                 Quique Setién (Real Betis Manager)    \n",
              "4                 Quique Setién (Real Betis Manager)    \n",
              "\n",
              "  Realistically what do you see us winning this year? Comments  \n",
              "0                           UCL,La Liga,Copa del Rey       NaN  \n",
              "1                           UCL,La Liga,Copa del Rey       NaN  \n",
              "2                                        UCL,La Liga       NaN  \n",
              "3                           UCL,La Liga,Copa del Rey       NaN  \n",
              "4                               La Liga,Copa del Rey       NaN  "
            ]
          },
          "metadata": {
            "tags": []
          },
          "execution_count": 2
        }
      ]
    },
    {
      "metadata": {
        "id": "s6iUMySjSf7I",
        "colab_type": "code",
        "colab": {}
      },
      "cell_type": "code",
      "source": [
        "#renaming columns\n",
        "df.columns = ['Number', 'rightback', 'suarez', 'weakness', 'rakitic', 'stay', 'nextcoach', 'winning', 'comments']"
      ],
      "execution_count": 0,
      "outputs": []
    },
    {
      "metadata": {
        "id": "zlvqnYU3Zs_1",
        "colab_type": "text"
      },
      "cell_type": "markdown",
      "source": [
        "**Do People Agree with the coach's decision? **\n",
        "\n",
        "This tests whether people like or agree with the coach. Currently the coach plays Sergi Roberto at rightback, and starts Luis Suarez and Ivan Rakitic. This is a hypothesis test of whether the people polled agree with his decision and if they want him to stay until 2020. In the data, these columns are represented by *rightback*, *suarez*, *rakitic*, and *stay*. "
      ]
    },
    {
      "metadata": {
        "id": "2jCI-eVaSrRY",
        "colab_type": "code",
        "outputId": "b6315642-0335-49a4-aa90-042b744e15a6",
        "colab": {
          "base_uri": "https://localhost:8080/",
          "height": 195
        }
      },
      "cell_type": "code",
      "source": [
        "#converting the 'Yes' or 'No' votes into 1s and 0s with one hot encoding\n",
        "\n",
        "hot_df = pd.get_dummies(df[['rightback', 'suarez', 'rakitic', 'stay']])\n",
        "\n",
        "#taking a look at the data\n",
        "hot_df.head()"
      ],
      "execution_count": 4,
      "outputs": [
        {
          "output_type": "execute_result",
          "data": {
            "text/html": [
              "<div>\n",
              "<style scoped>\n",
              "    .dataframe tbody tr th:only-of-type {\n",
              "        vertical-align: middle;\n",
              "    }\n",
              "\n",
              "    .dataframe tbody tr th {\n",
              "        vertical-align: top;\n",
              "    }\n",
              "\n",
              "    .dataframe thead th {\n",
              "        text-align: right;\n",
              "    }\n",
              "</style>\n",
              "<table border=\"1\" class=\"dataframe\">\n",
              "  <thead>\n",
              "    <tr style=\"text-align: right;\">\n",
              "      <th></th>\n",
              "      <th>rightback_Roberto</th>\n",
              "      <th>rightback_Semedo</th>\n",
              "      <th>suarez_No</th>\n",
              "      <th>suarez_Yes</th>\n",
              "      <th>rakitic_No</th>\n",
              "      <th>rakitic_Yes</th>\n",
              "      <th>stay_No</th>\n",
              "      <th>stay_Yes</th>\n",
              "    </tr>\n",
              "  </thead>\n",
              "  <tbody>\n",
              "    <tr>\n",
              "      <th>0</th>\n",
              "      <td>1</td>\n",
              "      <td>0</td>\n",
              "      <td>0</td>\n",
              "      <td>1</td>\n",
              "      <td>0</td>\n",
              "      <td>1</td>\n",
              "      <td>0</td>\n",
              "      <td>1</td>\n",
              "    </tr>\n",
              "    <tr>\n",
              "      <th>1</th>\n",
              "      <td>1</td>\n",
              "      <td>0</td>\n",
              "      <td>0</td>\n",
              "      <td>1</td>\n",
              "      <td>0</td>\n",
              "      <td>1</td>\n",
              "      <td>0</td>\n",
              "      <td>1</td>\n",
              "    </tr>\n",
              "    <tr>\n",
              "      <th>2</th>\n",
              "      <td>1</td>\n",
              "      <td>0</td>\n",
              "      <td>0</td>\n",
              "      <td>1</td>\n",
              "      <td>0</td>\n",
              "      <td>1</td>\n",
              "      <td>0</td>\n",
              "      <td>1</td>\n",
              "    </tr>\n",
              "    <tr>\n",
              "      <th>3</th>\n",
              "      <td>1</td>\n",
              "      <td>0</td>\n",
              "      <td>0</td>\n",
              "      <td>1</td>\n",
              "      <td>0</td>\n",
              "      <td>1</td>\n",
              "      <td>0</td>\n",
              "      <td>1</td>\n",
              "    </tr>\n",
              "    <tr>\n",
              "      <th>4</th>\n",
              "      <td>0</td>\n",
              "      <td>1</td>\n",
              "      <td>0</td>\n",
              "      <td>1</td>\n",
              "      <td>1</td>\n",
              "      <td>0</td>\n",
              "      <td>1</td>\n",
              "      <td>0</td>\n",
              "    </tr>\n",
              "  </tbody>\n",
              "</table>\n",
              "</div>"
            ],
            "text/plain": [
              "   rightback_Roberto  rightback_Semedo  suarez_No  suarez_Yes  rakitic_No  \\\n",
              "0                  1                 0          0           1           0   \n",
              "1                  1                 0          0           1           0   \n",
              "2                  1                 0          0           1           0   \n",
              "3                  1                 0          0           1           0   \n",
              "4                  0                 1          0           1           1   \n",
              "\n",
              "   rakitic_Yes  stay_No  stay_Yes  \n",
              "0            1        0         1  \n",
              "1            1        0         1  \n",
              "2            1        0         1  \n",
              "3            1        0         1  \n",
              "4            0        1         0  "
            ]
          },
          "metadata": {
            "tags": []
          },
          "execution_count": 4
        }
      ]
    },
    {
      "metadata": {
        "id": "5z9SsyDHX-Sk",
        "colab_type": "code",
        "colab": {}
      },
      "cell_type": "code",
      "source": [
        "#in the one hot encoding, 1s agree with the coach's decision and want him to stay. 0s are the opposite\n",
        "#we can find the total agreement by summing up the rows from those who agree completely with the coach (4) to those who disagree (0)\n",
        "\n",
        "hot_df_sums = hot_df[['rightback_Roberto', 'suarez_Yes', 'rakitic_Yes', 'stay_Yes']].sum(axis=1)\n"
      ],
      "execution_count": 0,
      "outputs": []
    },
    {
      "metadata": {
        "id": "-cHyX9-oa1-e",
        "colab_type": "code",
        "outputId": "bebed804-c565-475f-cc53-5bfb96236e47",
        "colab": {
          "base_uri": "https://localhost:8080/",
          "height": 175
        }
      },
      "cell_type": "code",
      "source": [
        "#as seen below, most people agree with most of his decisions [mode of 3, mean of 2.7 with standard dev of 0.9] \n",
        "\n",
        "#hot_df_sums.plot.hist(xticks = [0,1,2,3,4])\n",
        "\n",
        "hot_df_sums.describe()"
      ],
      "execution_count": 6,
      "outputs": [
        {
          "output_type": "execute_result",
          "data": {
            "text/plain": [
              "count    280.000000\n",
              "mean       2.742857\n",
              "std        0.914804\n",
              "min        0.000000\n",
              "25%        2.000000\n",
              "50%        3.000000\n",
              "75%        3.000000\n",
              "max        4.000000\n",
              "dtype: float64"
            ]
          },
          "metadata": {
            "tags": []
          },
          "execution_count": 6
        }
      ]
    },
    {
      "metadata": {
        "id": "hqCwEw5aAtae",
        "colab_type": "text"
      },
      "cell_type": "markdown",
      "source": [
        "##Central Limit Theorem"
      ]
    },
    {
      "metadata": {
        "id": "ubo3NS-JG-oa",
        "colab_type": "code",
        "outputId": "2b6c914c-5df5-4a53-ec53-6d14f529012b",
        "colab": {
          "base_uri": "https://localhost:8080/",
          "height": 34
        }
      },
      "cell_type": "code",
      "source": [
        "listofsamples = hot_df_sums.sample(n=40, replace = True).to_frame().mean()\n",
        "for x in range(10000): \n",
        "  df2 = hot_df_sums.sample(n=40, replace = True).to_frame().mean()\n",
        "  listofsamples = pd.concat([listofsamples, df2])\n",
        "len(listofsamples)"
      ],
      "execution_count": 7,
      "outputs": [
        {
          "output_type": "execute_result",
          "data": {
            "text/plain": [
              "10001"
            ]
          },
          "metadata": {
            "tags": []
          },
          "execution_count": 7
        }
      ]
    },
    {
      "metadata": {
        "id": "Uk-COPuUQV5t",
        "colab_type": "code",
        "outputId": "d45a4688-e8c3-465a-fe1e-68bb011cb98c",
        "colab": {
          "base_uri": "https://localhost:8080/",
          "height": 382
        }
      },
      "cell_type": "code",
      "source": [
        "listofsamples.hist()\n",
        "\n",
        "listofsamples.to_frame().mean()"
      ],
      "execution_count": 8,
      "outputs": [
        {
          "output_type": "execute_result",
          "data": {
            "text/plain": [
              "0    2.742113\n",
              "dtype: float64"
            ]
          },
          "metadata": {
            "tags": []
          },
          "execution_count": 8
        },
        {
          "output_type": "display_data",
          "data": {
            "image/png": "[encoded data removed]",
            "text/plain": [
              "<Figure size 576x396 with 1 Axes>"
            ]
          },
          "metadata": {
            "tags": []
          }
        }
      ]
    },
    {
      "metadata": {
        "id": "x_Lzdt80_02K",
        "colab_type": "text"
      },
      "cell_type": "markdown",
      "source": [
        "We can see that the mean of the distribution of sample averages (2.742113) is almost the same population mean (2.742857) which is the central limit theorem. "
      ]
    },
    {
      "metadata": {
        "id": "4wiefuyBAlnh",
        "colab_type": "text"
      },
      "cell_type": "markdown",
      "source": [
        "##Confidence Intervals"
      ]
    },
    {
      "metadata": {
        "id": "TjvHakPgwdkN",
        "colab_type": "code",
        "colab": {
          "base_uri": "https://localhost:8080/",
          "height": 72
        },
        "outputId": "fd040c70-73fb-4cef-fe2b-13bfcb370590"
      },
      "cell_type": "code",
      "source": [
        "random.seed(1234) #setting seed for reproducibility\n",
        "\n",
        "means1 = []\n",
        "means2 = []\n",
        "\n",
        "index = 1\n",
        "for x in range(50): \n",
        "  \n",
        "  asample = hot_df_sums.sample(n=40) #random sample of size 40 \n",
        "  mean = asample.mean() #mean of sample\n",
        "  std = asample.std()/math.sqrt(len(asample)) *2 #standard dev of sample. The *2 is for obtaining the 95% confidence interval 2 sd from the mean\n",
        "  \n",
        "  if mean+std >= 2.742857 and mean-std <= 2.742857: #if the confidence interval contains the population mean (2.742857)\n",
        "    means1.append(int(index))\n",
        "    means1.append(mean)\n",
        "    means1.append(std)\n",
        "  else: \n",
        "    means2.append(int(index))\n",
        "    means2.append(mean)\n",
        "    means2.append(std)\n",
        "  index += 1\n",
        "  \n",
        "print(means1)\n",
        "print(means2)"
      ],
      "execution_count": 13,
      "outputs": [
        {
          "output_type": "stream",
          "text": [
            "[1, 2.8, 0.2501281722719425, 2, 2.9, 0.2660248687044706, 3, 2.6, 0.3105000103224738, 4, 2.725, 0.295153154506918, 5, 2.775, 0.29946533552230575, 6, 2.775, 0.29077703150572615, 7, 2.8, 0.2698527613727768, 8, 2.8, 0.26017745423519634, 9, 2.9, 0.2935197542821372, 10, 2.775, 0.28182100156495954, 11, 2.675, 0.2809096944041918, 12, 2.725, 0.32015621187164245, 13, 2.825, 0.2854371366419566, 14, 2.775, 0.28182100156495954, 15, 2.9, 0.24599353754279915, 16, 2.575, 0.2854371366419566, 17, 2.775, 0.24271435147155265, 18, 2.45, 0.29482719841133526, 19, 2.875, 0.29688554299767717, 20, 2.575, 0.3272848676846893, 21, 2.65, 0.32462996686167983, 22, 2.625, 0.27444582857189287, 23, 2.75, 0.30170455917277916, 24, 2.75, 0.30170455917277916, 26, 2.7, 0.27919297618084515, 27, 2.775, 0.2907770315057261, 28, 2.55, 0.3355057414771058, 29, 2.75, 0.31008683647302115, 30, 2.825, 0.27630807777941246, 31, 2.75, 0.2655425022718972, 32, 2.75, 0.2930826434598881, 33, 2.475, 0.3201562118716425, 34, 2.825, 0.2668669119953778, 35, 2.65, 0.31663292667758075, 36, 2.9, 0.33435740128621616, 37, 2.95, 0.24755211831461127, 38, 2.875, 0.28811945528343014, 39, 2.825, 0.23629078131263043, 40, 2.675, 0.2716285170633807, 41, 2.925, 0.2620187896961707, 42, 2.65, 0.3246299668616799, 43, 2.75, 0.31008683647302115, 44, 2.75, 0.31824841127969716, 45, 2.75, 0.30170455917277916, 46, 2.75, 0.33397374378603706, 48, 2.775, 0.2994653355223057, 49, 2.625, 0.30956959368344517, 50, 2.75, 0.28419928002940253]\n",
            "[25, 2.975, 0.2086279967445429, 47, 2.45, 0.28599802760661086]\n"
          ],
          "name": "stdout"
        }
      ]
    },
    {
      "metadata": {
        "id": "Ym22NOszB2SY",
        "colab_type": "text"
      },
      "cell_type": "markdown",
      "source": [
        "<br> Converting the lists into dataframes and concatenating them"
      ]
    },
    {
      "metadata": {
        "id": "WbtTDMSq5paT",
        "colab_type": "code",
        "colab": {
          "base_uri": "https://localhost:8080/",
          "height": 195
        },
        "outputId": "81d33a3d-0546-4906-f832-4acc7fd20766"
      },
      "cell_type": "code",
      "source": [
        "meansdf1 = pd.DataFrame(np.array(means1).reshape(-1,3), columns = ['index1', 'mean1', 'sd1'])\n",
        "meansdf2 = pd.DataFrame(np.array(means2).reshape(-1,3), columns = ['index2', 'mean2', 'sd2'])\n",
        "bigmeans = pd.concat([meansdf1, meansdf2], axis = 1)\n",
        "\n",
        "bigmeans.head()"
      ],
      "execution_count": 14,
      "outputs": [
        {
          "output_type": "execute_result",
          "data": {
            "text/html": [
              "<div>\n",
              "<style scoped>\n",
              "    .dataframe tbody tr th:only-of-type {\n",
              "        vertical-align: middle;\n",
              "    }\n",
              "\n",
              "    .dataframe tbody tr th {\n",
              "        vertical-align: top;\n",
              "    }\n",
              "\n",
              "    .dataframe thead th {\n",
              "        text-align: right;\n",
              "    }\n",
              "</style>\n",
              "<table border=\"1\" class=\"dataframe\">\n",
              "  <thead>\n",
              "    <tr style=\"text-align: right;\">\n",
              "      <th></th>\n",
              "      <th>index1</th>\n",
              "      <th>mean1</th>\n",
              "      <th>sd1</th>\n",
              "      <th>index2</th>\n",
              "      <th>mean2</th>\n",
              "      <th>sd2</th>\n",
              "    </tr>\n",
              "  </thead>\n",
              "  <tbody>\n",
              "    <tr>\n",
              "      <th>0</th>\n",
              "      <td>1.0</td>\n",
              "      <td>2.800</td>\n",
              "      <td>0.250128</td>\n",
              "      <td>25.0</td>\n",
              "      <td>2.975</td>\n",
              "      <td>0.208628</td>\n",
              "    </tr>\n",
              "    <tr>\n",
              "      <th>1</th>\n",
              "      <td>2.0</td>\n",
              "      <td>2.900</td>\n",
              "      <td>0.266025</td>\n",
              "      <td>47.0</td>\n",
              "      <td>2.450</td>\n",
              "      <td>0.285998</td>\n",
              "    </tr>\n",
              "    <tr>\n",
              "      <th>2</th>\n",
              "      <td>3.0</td>\n",
              "      <td>2.600</td>\n",
              "      <td>0.310500</td>\n",
              "      <td>NaN</td>\n",
              "      <td>NaN</td>\n",
              "      <td>NaN</td>\n",
              "    </tr>\n",
              "    <tr>\n",
              "      <th>3</th>\n",
              "      <td>4.0</td>\n",
              "      <td>2.725</td>\n",
              "      <td>0.295153</td>\n",
              "      <td>NaN</td>\n",
              "      <td>NaN</td>\n",
              "      <td>NaN</td>\n",
              "    </tr>\n",
              "    <tr>\n",
              "      <th>4</th>\n",
              "      <td>5.0</td>\n",
              "      <td>2.775</td>\n",
              "      <td>0.299465</td>\n",
              "      <td>NaN</td>\n",
              "      <td>NaN</td>\n",
              "      <td>NaN</td>\n",
              "    </tr>\n",
              "  </tbody>\n",
              "</table>\n",
              "</div>"
            ],
            "text/plain": [
              "   index1  mean1       sd1  index2  mean2       sd2\n",
              "0     1.0  2.800  0.250128    25.0  2.975  0.208628\n",
              "1     2.0  2.900  0.266025    47.0  2.450  0.285998\n",
              "2     3.0  2.600  0.310500     NaN    NaN       NaN\n",
              "3     4.0  2.725  0.295153     NaN    NaN       NaN\n",
              "4     5.0  2.775  0.299465     NaN    NaN       NaN"
            ]
          },
          "metadata": {
            "tags": []
          },
          "execution_count": 14
        }
      ]
    },
    {
      "metadata": {
        "id": "loCByYbZBwmt",
        "colab_type": "text"
      },
      "cell_type": "markdown",
      "source": [
        "<br> Plotting the means with error bars of 2*standard deviation to obtain the 95% confidence interval"
      ]
    },
    {
      "metadata": {
        "id": "28jtVrjD1wv3",
        "colab_type": "code",
        "colab": {
          "base_uri": "https://localhost:8080/",
          "height": 378
        },
        "outputId": "69faf29f-448b-40e6-bc17-c5a63b537554"
      },
      "cell_type": "code",
      "source": [
        "ax = bigmeans.plot(kind = 'scatter', x = 'mean1', y = 'index1', xerr = 'sd1', color = 'blue', label = 'group1')\n",
        "bigmeans.plot(kind = 'scatter', x = 'mean2', y = 'index2', xerr = 'sd2', color = 'red', label = 'group2', ax=ax)\n",
        "plt.axvline(2.742857, color = 'black', linewidth = 0.8) #actual population mean"
      ],
      "execution_count": 15,
      "outputs": [
        {
          "output_type": "execute_result",
          "data": {
            "text/plain": [
              "<matplotlib.lines.Line2D at 0x7fa0e47024a8>"
            ]
          },
          "metadata": {
            "tags": []
          },
          "execution_count": 15
        },
        {
          "output_type": "display_data",
          "data": {
            "image/png": "[encoded data removed]",
            "text/plain": [
              "<Figure size 576x396 with 1 Axes>"
            ]
          },
          "metadata": {
            "tags": []
          }
        }
      ]
    },
    {
      "metadata": {
        "id": "_KRGY5Qr1yg7",
        "colab_type": "code",
        "colab": {
          "base_uri": "https://localhost:8080/",
          "height": 34
        },
        "outputId": "e7e202df-2b29-4583-8ceb-4a1ba7568436"
      },
      "cell_type": "code",
      "source": [
        "a = len(means1)/3 #divided by 3 because 3 variables (index, mean, and sd are appended at once)\n",
        "b = len(means2)/3\n",
        "a/(a+b) * 100 #about 95% of the confidence intervals contain the population parameter (black line)"
      ],
      "execution_count": 16,
      "outputs": [
        {
          "output_type": "execute_result",
          "data": {
            "text/plain": [
              "96.0"
            ]
          },
          "metadata": {
            "tags": []
          },
          "execution_count": 16
        }
      ]
    },
    {
      "metadata": {
        "id": "-rci4qk-CeEV",
        "colab_type": "code",
        "colab": {}
      },
      "cell_type": "code",
      "source": [
        ""
      ],
      "execution_count": 0,
      "outputs": []
    }
  ]
}