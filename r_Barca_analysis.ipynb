{
  "nbformat": 4,
  "nbformat_minor": 0,
  "metadata": {
    "colab": {
      "name": "r/Barca analysis",
      "version": "0.3.2",
      "provenance": [],
      "collapsed_sections": []
    },
    "kernelspec": {
      "name": "python3",
      "display_name": "Python 3"
    }
  },
  "cells": [
    {
      "metadata": {
        "id": "XoFzcb5URUvi",
        "colab_type": "code",
        "colab": {}
      },
      "cell_type": "code",
      "source": [
        "import pandas as pd\n",
        "import matplotlib.pyplot as plt"
      ],
      "execution_count": 0,
      "outputs": []
    },
    {
      "metadata": {
        "id": "xbnixqMYSYWS",
        "colab_type": "code",
        "outputId": "839d00d8-1740-4215-f1cd-8be7af8c832d",
        "colab": {
          "base_uri": "https://localhost:8080/",
          "height": 346
        }
      },
      "cell_type": "code",
      "source": [
        "#importing the data from Google Drive\n",
        "df = pd.read_csv('https://docs.google.com/spreadsheets/d/e/2PACX-1vSMiM5wTg-lKe--jhh9mhF9oa6-f3BSalVQJTtXYLqQSuV01Hm4L1mzZc3QQDB2MpcBUDVjZqN24Su-/pub?gid=1627641766&single=true&output=csv')\n",
        "\n",
        "#taking a look at the data\n",
        "df.head()"
      ],
      "execution_count": 2,
      "outputs": [
        {
          "output_type": "execute_result",
          "data": {
            "text/html": [
              "<div>\n",
              "<style scoped>\n",
              "    .dataframe tbody tr th:only-of-type {\n",
              "        vertical-align: middle;\n",
              "    }\n",
              "\n",
              "    .dataframe tbody tr th {\n",
              "        vertical-align: top;\n",
              "    }\n",
              "\n",
              "    .dataframe thead th {\n",
              "        text-align: right;\n",
              "    }\n",
              "</style>\n",
              "<table border=\"1\" class=\"dataframe\">\n",
              "  <thead>\n",
              "    <tr style=\"text-align: right;\">\n",
              "      <th></th>\n",
              "      <th>Response Number</th>\n",
              "      <th>Who should be our starting right back</th>\n",
              "      <th>Is Suarez part of our best starting 11?</th>\n",
              "      <th>What is Valverdes biggest weakness</th>\n",
              "      <th>Is Rakitic part of our best starting 11?</th>\n",
              "      <th>Should Valverde stay another season until 2020</th>\n",
              "      <th>After Valverde leaves who should be our next coach?</th>\n",
              "      <th>Realistically what do you see us winning this year?</th>\n",
              "      <th>Comments</th>\n",
              "    </tr>\n",
              "  </thead>\n",
              "  <tbody>\n",
              "    <tr>\n",
              "      <th>0</th>\n",
              "      <td>1</td>\n",
              "      <td>Roberto</td>\n",
              "      <td>Yes</td>\n",
              "      <td>Very little rotations and prefers his starting 11</td>\n",
              "      <td>Yes</td>\n",
              "      <td>Yes</td>\n",
              "      <td>Francisco Javier García Pimienta (Barca B Mana...</td>\n",
              "      <td>UCL,La Liga,Copa del Rey</td>\n",
              "      <td>NaN</td>\n",
              "    </tr>\n",
              "    <tr>\n",
              "      <th>1</th>\n",
              "      <td>2</td>\n",
              "      <td>Roberto</td>\n",
              "      <td>Yes</td>\n",
              "      <td>Too reliant on individual quality</td>\n",
              "      <td>Yes</td>\n",
              "      <td>Yes</td>\n",
              "      <td>Mauricio Pochettino (Spurs Manager)</td>\n",
              "      <td>UCL,La Liga,Copa del Rey</td>\n",
              "      <td>NaN</td>\n",
              "    </tr>\n",
              "    <tr>\n",
              "      <th>2</th>\n",
              "      <td>3</td>\n",
              "      <td>Roberto</td>\n",
              "      <td>Yes</td>\n",
              "      <td>Too reliant on Messi</td>\n",
              "      <td>Yes</td>\n",
              "      <td>Yes</td>\n",
              "      <td>Quique Setién (Real Betis Manager)</td>\n",
              "      <td>UCL,La Liga</td>\n",
              "      <td>NaN</td>\n",
              "    </tr>\n",
              "    <tr>\n",
              "      <th>3</th>\n",
              "      <td>4</td>\n",
              "      <td>Roberto</td>\n",
              "      <td>Yes</td>\n",
              "      <td>Very little rotations and prefers his starting 11</td>\n",
              "      <td>Yes</td>\n",
              "      <td>Yes</td>\n",
              "      <td>Quique Setién (Real Betis Manager)</td>\n",
              "      <td>UCL,La Liga,Copa del Rey</td>\n",
              "      <td>NaN</td>\n",
              "    </tr>\n",
              "    <tr>\n",
              "      <th>4</th>\n",
              "      <td>5</td>\n",
              "      <td>Semedo</td>\n",
              "      <td>Yes</td>\n",
              "      <td>Too reliant on individual quality</td>\n",
              "      <td>No</td>\n",
              "      <td>No</td>\n",
              "      <td>Quique Setién (Real Betis Manager)</td>\n",
              "      <td>La Liga,Copa del Rey</td>\n",
              "      <td>NaN</td>\n",
              "    </tr>\n",
              "  </tbody>\n",
              "</table>\n",
              "</div>"
            ],
            "text/plain": [
              "   Response Number Who should be our starting right back  \\\n",
              "0                1                               Roberto   \n",
              "1                2                               Roberto   \n",
              "2                3                               Roberto   \n",
              "3                4                               Roberto   \n",
              "4                5                                Semedo   \n",
              "\n",
              "  Is Suarez part of our best starting 11?  \\\n",
              "0                                     Yes   \n",
              "1                                     Yes   \n",
              "2                                     Yes   \n",
              "3                                     Yes   \n",
              "4                                     Yes   \n",
              "\n",
              "                  What is Valverdes biggest weakness  \\\n",
              "0  Very little rotations and prefers his starting 11   \n",
              "1                  Too reliant on individual quality   \n",
              "2                               Too reliant on Messi   \n",
              "3  Very little rotations and prefers his starting 11   \n",
              "4                  Too reliant on individual quality   \n",
              "\n",
              "  Is Rakitic part of our best starting 11?  \\\n",
              "0                                      Yes   \n",
              "1                                      Yes   \n",
              "2                                      Yes   \n",
              "3                                      Yes   \n",
              "4                                       No   \n",
              "\n",
              "  Should Valverde stay another season until 2020  \\\n",
              "0                                            Yes   \n",
              "1                                            Yes   \n",
              "2                                            Yes   \n",
              "3                                            Yes   \n",
              "4                                             No   \n",
              "\n",
              "  After Valverde leaves who should be our next coach?  \\\n",
              "0  Francisco Javier García Pimienta (Barca B Mana...    \n",
              "1                Mauricio Pochettino (Spurs Manager)    \n",
              "2                 Quique Setién (Real Betis Manager)    \n",
              "3                 Quique Setién (Real Betis Manager)    \n",
              "4                 Quique Setién (Real Betis Manager)    \n",
              "\n",
              "  Realistically what do you see us winning this year? Comments  \n",
              "0                           UCL,La Liga,Copa del Rey       NaN  \n",
              "1                           UCL,La Liga,Copa del Rey       NaN  \n",
              "2                                        UCL,La Liga       NaN  \n",
              "3                           UCL,La Liga,Copa del Rey       NaN  \n",
              "4                               La Liga,Copa del Rey       NaN  "
            ]
          },
          "metadata": {
            "tags": []
          },
          "execution_count": 2
        }
      ]
    },
    {
      "metadata": {
        "id": "s6iUMySjSf7I",
        "colab_type": "code",
        "colab": {}
      },
      "cell_type": "code",
      "source": [
        "#renaming columns\n",
        "df.columns = ['Number', 'rightback', 'suarez', 'weakness', 'rakitic', 'stay', 'nextcoach', 'winning', 'comments']"
      ],
      "execution_count": 0,
      "outputs": []
    },
    {
      "metadata": {
        "id": "zlvqnYU3Zs_1",
        "colab_type": "text"
      },
      "cell_type": "markdown",
      "source": [
        "**Do People Agree with the coach's decision? **\n",
        "\n",
        "This tests whether people like or agree with the coach. Currently the coach plays Sergi Roberto at rightback, and starts Luis Suarez and Ivan Rakitic. This is a hypothesis test of whether the people polled agree with his decision and if they want him to stay until 2020. In the data, these columns are represented by *rightback*, *suarez*, *rakitic*, and *stay*. "
      ]
    },
    {
      "metadata": {
        "id": "2jCI-eVaSrRY",
        "colab_type": "code",
        "outputId": "c4d760d6-a945-4696-a11e-a59ce40d9159",
        "colab": {
          "base_uri": "https://localhost:8080/",
          "height": 195
        }
      },
      "cell_type": "code",
      "source": [
        "#converting the 'Yes' or 'No' votes into 1s and 0s with one hot encoding\n",
        "\n",
        "hot_df = pd.get_dummies(df[['rightback', 'suarez', 'rakitic', 'stay']])\n",
        "\n",
        "#taking a look at the data\n",
        "hot_df.head()"
      ],
      "execution_count": 4,
      "outputs": [
        {
          "output_type": "execute_result",
          "data": {
            "text/html": [
              "<div>\n",
              "<style scoped>\n",
              "    .dataframe tbody tr th:only-of-type {\n",
              "        vertical-align: middle;\n",
              "    }\n",
              "\n",
              "    .dataframe tbody tr th {\n",
              "        vertical-align: top;\n",
              "    }\n",
              "\n",
              "    .dataframe thead th {\n",
              "        text-align: right;\n",
              "    }\n",
              "</style>\n",
              "<table border=\"1\" class=\"dataframe\">\n",
              "  <thead>\n",
              "    <tr style=\"text-align: right;\">\n",
              "      <th></th>\n",
              "      <th>rightback_Roberto</th>\n",
              "      <th>rightback_Semedo</th>\n",
              "      <th>suarez_No</th>\n",
              "      <th>suarez_Yes</th>\n",
              "      <th>rakitic_No</th>\n",
              "      <th>rakitic_Yes</th>\n",
              "      <th>stay_No</th>\n",
              "      <th>stay_Yes</th>\n",
              "    </tr>\n",
              "  </thead>\n",
              "  <tbody>\n",
              "    <tr>\n",
              "      <th>0</th>\n",
              "      <td>1</td>\n",
              "      <td>0</td>\n",
              "      <td>0</td>\n",
              "      <td>1</td>\n",
              "      <td>0</td>\n",
              "      <td>1</td>\n",
              "      <td>0</td>\n",
              "      <td>1</td>\n",
              "    </tr>\n",
              "    <tr>\n",
              "      <th>1</th>\n",
              "      <td>1</td>\n",
              "      <td>0</td>\n",
              "      <td>0</td>\n",
              "      <td>1</td>\n",
              "      <td>0</td>\n",
              "      <td>1</td>\n",
              "      <td>0</td>\n",
              "      <td>1</td>\n",
              "    </tr>\n",
              "    <tr>\n",
              "      <th>2</th>\n",
              "      <td>1</td>\n",
              "      <td>0</td>\n",
              "      <td>0</td>\n",
              "      <td>1</td>\n",
              "      <td>0</td>\n",
              "      <td>1</td>\n",
              "      <td>0</td>\n",
              "      <td>1</td>\n",
              "    </tr>\n",
              "    <tr>\n",
              "      <th>3</th>\n",
              "      <td>1</td>\n",
              "      <td>0</td>\n",
              "      <td>0</td>\n",
              "      <td>1</td>\n",
              "      <td>0</td>\n",
              "      <td>1</td>\n",
              "      <td>0</td>\n",
              "      <td>1</td>\n",
              "    </tr>\n",
              "    <tr>\n",
              "      <th>4</th>\n",
              "      <td>0</td>\n",
              "      <td>1</td>\n",
              "      <td>0</td>\n",
              "      <td>1</td>\n",
              "      <td>1</td>\n",
              "      <td>0</td>\n",
              "      <td>1</td>\n",
              "      <td>0</td>\n",
              "    </tr>\n",
              "  </tbody>\n",
              "</table>\n",
              "</div>"
            ],
            "text/plain": [
              "   rightback_Roberto  rightback_Semedo  suarez_No  suarez_Yes  rakitic_No  \\\n",
              "0                  1                 0          0           1           0   \n",
              "1                  1                 0          0           1           0   \n",
              "2                  1                 0          0           1           0   \n",
              "3                  1                 0          0           1           0   \n",
              "4                  0                 1          0           1           1   \n",
              "\n",
              "   rakitic_Yes  stay_No  stay_Yes  \n",
              "0            1        0         1  \n",
              "1            1        0         1  \n",
              "2            1        0         1  \n",
              "3            1        0         1  \n",
              "4            0        1         0  "
            ]
          },
          "metadata": {
            "tags": []
          },
          "execution_count": 4
        }
      ]
    },
    {
      "metadata": {
        "id": "5z9SsyDHX-Sk",
        "colab_type": "code",
        "colab": {}
      },
      "cell_type": "code",
      "source": [
        "#in the one hot encoding, 1s agree with the coach's decision and want him to stay. 0s are the opposite\n",
        "#we can find the total agreement by summing up the rows from those who agree completely with the coach (4) to those who disagree (0)\n",
        "\n",
        "hot_df_sums = hot_df[['rightback_Roberto', 'suarez_Yes', 'rakitic_Yes', 'stay_Yes']].sum(axis=1)\n"
      ],
      "execution_count": 0,
      "outputs": []
    },
    {
      "metadata": {
        "id": "-cHyX9-oa1-e",
        "colab_type": "code",
        "outputId": "6e4d7aff-e5b4-4d60-b1f3-bd352361e043",
        "colab": {
          "base_uri": "https://localhost:8080/",
          "height": 506
        }
      },
      "cell_type": "code",
      "source": [
        "#as seen below, most people agree with most of his decisions [mode of 3, mean of 2.7 with standard dev of 0.9] \n",
        "\n",
        "hot_df_sums.plot.hist(xticks = [0,1,2,3,4])\n",
        "\n",
        "hot_df_sums.describe()"
      ],
      "execution_count": 6,
      "outputs": [
        {
          "output_type": "execute_result",
          "data": {
            "text/plain": [
              "count    280.000000\n",
              "mean       2.742857\n",
              "std        0.914804\n",
              "min        0.000000\n",
              "25%        2.000000\n",
              "50%        3.000000\n",
              "75%        3.000000\n",
              "max        4.000000\n",
              "dtype: float64"
            ]
          },
          "metadata": {
            "tags": []
          },
          "execution_count": 6
        },
        {
          "output_type": "display_data",
          "data": {
            "image/png": "[encoded data removed]",
            "text/plain": [
              "<Figure size 576x396 with 1 Axes>"
            ]
          },
          "metadata": {
            "tags": []
          }
        }
      ]
    },
    {
      "metadata": {
        "id": "936DevoNbTar",
        "colab_type": "code",
        "colab": {}
      },
      "cell_type": "code",
      "source": [
        "#hot_df_sums.to_frame().boxplot(column = 0)\n",
        "#hot_df_sums.plot.box()\n",
        "#print(df_sums.mean(), df_sums.median())"
      ],
      "execution_count": 0,
      "outputs": []
    },
    {
      "metadata": {
        "id": "ubo3NS-JG-oa",
        "colab_type": "code",
        "outputId": "a60345c5-cbce-42bc-f814-cb6436d7aff9",
        "colab": {
          "base_uri": "https://localhost:8080/",
          "height": 34
        }
      },
      "cell_type": "code",
      "source": [
        "#testing the central limit theorem\n",
        "\n",
        "listofsamples = hot_df_sums.sample(n=40, replace = True).to_frame().mean()\n",
        "for x in range(10000): \n",
        "  df2 = hot_df_sums.sample(n=40, replace = True).to_frame().mean()\n",
        "  listofsamples = pd.concat([listofsamples, df2])\n",
        "len(listofsamples)"
      ],
      "execution_count": 8,
      "outputs": [
        {
          "output_type": "execute_result",
          "data": {
            "text/plain": [
              "10001"
            ]
          },
          "metadata": {
            "tags": []
          },
          "execution_count": 8
        }
      ]
    },
    {
      "metadata": {
        "id": "Uk-COPuUQV5t",
        "colab_type": "code",
        "outputId": "12ebbb93-60d2-446b-c340-71d47ddfc6c8",
        "colab": {
          "base_uri": "https://localhost:8080/",
          "height": 382
        }
      },
      "cell_type": "code",
      "source": [
        "listofsamples.hist()\n",
        "\n",
        "listofsamples.to_frame().mean()"
      ],
      "execution_count": 9,
      "outputs": [
        {
          "output_type": "execute_result",
          "data": {
            "text/plain": [
              "0    2.742498\n",
              "dtype: float64"
            ]
          },
          "metadata": {
            "tags": []
          },
          "execution_count": 9
        },
        {
          "output_type": "display_data",
          "data": {
            "image/png": "[encoded data removed]",
            "text/plain": [
              "<Figure size 576x396 with 1 Axes>"
            ]
          },
          "metadata": {
            "tags": []
          }
        }
      ]
    },
    {
      "metadata": {
        "id": "2SUyPlerGPbS",
        "colab_type": "code",
        "colab": {}
      },
      "cell_type": "code",
      "source": [
        ""
      ],
      "execution_count": 0,
      "outputs": []
    }
  ]
}